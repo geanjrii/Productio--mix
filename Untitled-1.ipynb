{
 "cells": [
  {
   "attachments": {},
   "cell_type": "markdown",
   "metadata": {},
   "source": [
    "# Aula prática: Mix de Produção\n",
    "<sup>Adaptado dos exercícios 2.3 e 2.5 do livro `Pesquisa Operacional` de `Arenales, Armentano, Morabito e Yanasse`.</sup>"
   ]
  },
  {
   "attachments": {},
   "cell_type": "markdown",
   "metadata": {},
   "source": [
    "## Exercício 1"
   ]
  },
  {
   "attachments": {},
   "cell_type": "markdown",
   "metadata": {},
   "source": [
    "### Descrição do problema\n",
    "Uma fundição tem de produzir 10 toneladas de um tipo de liga metálica e, para isso, tem disponível: lingotes de ferro, grafite e sucata. Dois componentes são relevantes para a liga: carbono e silício. As tabelas a seguir fornecem a fração, em termos percentuais, desses elementos nos ingredientes disponíveis, seus custos unitários, bem como a composição da liga (isto é, porcentagens mínimas e máximas de cada componente da liga).\n",
    "\n",
    "Frações dos elementos (%) nos ingredientes e custo dos ingredientes (R$/ton):\n",
    "\n",
    "| | Lingotes | Grafite | Sucata |\n",
    "|:---|:---:|:---:|:---:|\n",
    "| Carbono | 0.5 | 90 | 9 |\n",
    "| Silício | 14 | - | 27 |\n",
    "| Custo | 90 | 180 | 25 |\n",
    "\n",
    "Frações (%) mínima e máxima dos componentes na liga:\n",
    "\n",
    "| | min | max |\n",
    "|:---|:---:|:---:|\n",
    "|Carbono | 0.0 | 9.5 |\n",
    "|Silício | 19 | 20 |\n",
    "\n",
    "\n",
    "Escreva um modelo de otimização linear para determinar as quantidades dos ingredientes para compor a liga metálica, de modo que as especificações técnicas sejam satisfeitas e o custo seja mínimo."
   ]
  },
  {
   "cell_type": "code",
   "execution_count": 1,
   "metadata": {},
   "outputs": [],
   "source": [
    "from mip import *"
   ]
  },
  {
   "cell_type": "code",
   "execution_count": 2,
   "metadata": {},
   "outputs": [],
   "source": [
    "#Carrega Dados\n",
    "\n",
    "# composição de cada ingrediente\n",
    "a = {\n",
    "    'l': {'c': 0.005, 's': 0.14},\n",
    "    'g': {'c': 0.9,   's': 0.0},\n",
    "    's': {'c': 0.09,  's': 0.27},\n",
    "}\n",
    "\n",
    "# custo\n",
    "c = {'l': 90, 'g': 180, 's': 25}\n",
    "\n",
    "# composições mínimas e máximas dos componentes\n",
    "n = {'c': 0.0, 's': 0.19}  # min\n",
    "m = {'c': 0.095, 's': 0.2} # max\n",
    "\n",
    "# quantidade desejada da liga\n",
    "Q = 10"
   ]
  },
  {
   "attachments": {},
   "cell_type": "markdown",
   "metadata": {},
   "source": [
    "$x_i$: quantidade, em toneladas, do ingrediente $i$ usado na liga\n",
    "\n",
    "$$\\min c_l x_l + c_g x_g + c_s x_s$$\n",
    "\n",
    "Sujeito a:\n",
    "\n",
    "$$x_l + x_g + x_s = Q$$\n",
    "\n",
    "$$n_c Q \\leq a_{lc} x_l + a_{gc} x_g + a_{sc} x_s \\leq m_c Q$$\n",
    "$$n_s Q \\leq a_{ls} x_l + a_{gs} x_g + a_{ss} x_s \\leq m_s Q$$\n",
    "$$x_l, x_g, x_s \\geq 0$$"
   ]
  },
  {
   "cell_type": "code",
   "execution_count": 3,
   "metadata": {},
   "outputs": [
    {
     "name": "stdout",
     "output_type": "stream",
     "text": [
      "\\Problem name: \n",
      "\n",
      "Minimize\n",
      "OBJROW: 90 x_l + 180 x_g + 25 x_s\n",
      "Subject To\n",
      "constr(0):  x_l + x_g + x_s = 10\n",
      "constr(1):  0.00500 x_l + 0.90000 x_g + 0.09000 x_s >= -0\n",
      "constr(2):  0.00500 x_l + 0.90000 x_g + 0.09000 x_s <= 0.95000\n",
      "constr(3):  0.14000 x_l + 0.27000 x_s >= 1.90000\n",
      "constr(4):  0.14000 x_l + 0.27000 x_s <= 2\n",
      "Bounds\n",
      "End\n",
      "\n"
     ]
    }
   ],
   "source": [
    "#Cria modelo\n",
    "\n",
    "model = Model(sense=MINIMIZE, solver_name=CBC)\n",
    "\n",
    "# criação/adição da variável no modelo\n",
    "x = {i: model.add_var(var_type=CONTINUOUS, name=f'x_{i}', lb=0.0) for i in  ['l', 'g', 's']}\n",
    "\n",
    "# função objetivo\n",
    "model.objective = c['l']*x['l'] + c['g']*x['g'] + c['s']*x['s']\n",
    "\n",
    "# a soma dos ingredientes usados deve ser igual a Q\n",
    "model += x['l'] + x['g'] + x['s'] == Q\n",
    "\n",
    "# restrição na quantidade de Carbono na liga\n",
    "carbono = a['l']['c']*x['l'] + a['g']['c']*x['g'] + a['s']['c']*x['s']\n",
    "model += n['c']*Q <= carbono\n",
    "model += carbono <= m['c']*Q\n",
    "\n",
    "# restrição na quantidade de Silicio na liga\n",
    "silicio = a['l']['s']*x['l'] + a['g']['s']*x['g'] + a['s']['s']*x['s']\n",
    "model += n['s']*Q <= silicio\n",
    "model += silicio <= m['s']*Q\n",
    "\n",
    "model.write(\"model.lp\") # salva modelo em arquivo\n",
    "with open(\"model.lp\") as f: # lê e exibe conteúdo do arquivo\n",
    "  print(f.read())"
   ]
  },
  {
   "cell_type": "code",
   "execution_count": 4,
   "metadata": {},
   "outputs": [
    {
     "name": "stdout",
     "output_type": "stream",
     "text": [
      "Welcome to the CBC MILP Solver \n",
      "Version: Trunk\n",
      "Build Date: Oct 24 2021 \n",
      "\n",
      "Starting solution of the Linear programming problem using Primal Simplex\n",
      "\n",
      "Clp0024I Matrix will be packed to eliminate 2 small elements\n",
      "Coin0506I Presolve 4 (-1) rows, 3 (0) columns and 10 (-3) elements\n",
      "Clp1000I sum of infeasibilities 7.55461e-06 - average 1.88865e-06, 0 fixed columns\n",
      "Coin0506I Presolve 4 (0) rows, 3 (0) columns and 10 (0) elements\n",
      "Clp0029I End of values pass after 3 iterations\n",
      "Clp0000I Optimal - objective value 600\n",
      "Clp0000I Optimal - objective value 600\n",
      "Clp0000I Optimal - objective value 600\n",
      "Coin0511I After Postsolve, objective 600, infeasibilities - dual 0 (0), primal 0 (0)\n",
      "Clp0032I Optimal objective 600 - 0 iterations time 0.002, Presolve 0.00, Idiot 0.00\n",
      "Status =  OptimizationStatus.OPTIMAL\n",
      "Solution value  = 600.00\n",
      "\n",
      "Solution:\n",
      "x_l = 5.38\n",
      "x_g = 0.00\n",
      "x_s = 4.62\n"
     ]
    }
   ],
   "source": [
    "#Executa\n",
    "\n",
    "def solve(model):\n",
    "  status = model.optimize()\n",
    "\n",
    "  print(\"Status = \", status)\n",
    "  print(f\"Solution value  = {model.objective_value:.2f}\\n\")\n",
    "  \n",
    "  print(\"Solution:\")\n",
    "  for v in model.vars:\n",
    "      print(f\"{v.name} = {v.x:.2f}\")\n",
    "\n",
    "solve(model)"
   ]
  },
  {
   "attachments": {},
   "cell_type": "markdown",
   "metadata": {},
   "source": [
    "## Exercício 2"
   ]
  },
  {
   "attachments": {},
   "cell_type": "markdown",
   "metadata": {},
   "source": [
    "Agora considere que os ingredientes tem o estoque limitado, de acordo com a tabela abaixo.\n",
    "\n",
    "| | Lingotes | Grafite | Sucata |\n",
    "|:---|:---:|:---:|:---:|\n",
    "| Estoque (ton) | 5 | 5 | 12 |\n",
    "\n",
    "Como o modelo pode ser modificado para atender a esse requisito?"
   ]
  },
  {
   "cell_type": "code",
   "execution_count": 5,
   "metadata": {},
   "outputs": [],
   "source": [
    "# estoque\n",
    "e = {'l': 5, 'g': 5, 's': 12}"
   ]
  },
  {
   "attachments": {},
   "cell_type": "markdown",
   "metadata": {},
   "source": [
    "Adicionamos as seguintes restrições ao modelo anterior:\n",
    "\n",
    "$$x_l \\leq e_l$$\n",
    "$$x_g \\leq e_g$$\n",
    "$$x_s \\leq e_s$$"
   ]
  },
  {
   "cell_type": "code",
   "execution_count": 6,
   "metadata": {},
   "outputs": [
    {
     "name": "stdout",
     "output_type": "stream",
     "text": [
      "\\Problem name: \n",
      "\n",
      "Minimize\n",
      "OBJROW: 90 x_l + 180 x_g + 25 x_s\n",
      "Subject To\n",
      "constr(0):  x_l + x_g + x_s = 10\n",
      "constr(1):  0.00500 x_l + 0.90000 x_g + 0.09000 x_s >= -0\n",
      "constr(2):  0.00500 x_l + 0.90000 x_g + 0.09000 x_s <= 0.95000\n",
      "constr(3):  0.14000 x_l + 0.27000 x_s >= 1.90000\n",
      "constr(4):  0.14000 x_l + 0.27000 x_s <= 2\n",
      "constr(5):  x_l <= 5\n",
      "constr(6):  x_g <= 5\n",
      "constr(7):  x_s <= 12\n",
      "Bounds\n",
      "End\n",
      "\n"
     ]
    }
   ],
   "source": [
    "#Cria modelo\n",
    "\n",
    "model += x['l'] <= e['l']\n",
    "model += x['g'] <= e['g']\n",
    "model += x['s'] <= e['s']\n",
    "\n",
    "model.write(\"modelo2.lp\") # salva modelo em arquivo\n",
    "with open(\"modelo2.lp\") as f: # Lê e exibe conteúdo do arquivo\n",
    "  print(f.read())"
   ]
  },
  {
   "cell_type": "code",
   "execution_count": 7,
   "metadata": {},
   "outputs": [
    {
     "name": "stdout",
     "output_type": "stream",
     "text": [
      "Starting solution of the Linear programming problem using Primal Simplex\n",
      "\n",
      "Clp0006I 0  Obj 600 Primal inf 0.10500365 (1) Dual inf 1.5480471e+09 (1)\n",
      "Clp0000I Optimal - objective value 603.7037\n",
      "Status =  OptimizationStatus.OPTIMAL\n",
      "Solution value  = 603.70\n",
      "\n",
      "Solution:\n",
      "x_l = 5.00\n",
      "x_g = 0.19\n",
      "x_s = 4.81\n"
     ]
    }
   ],
   "source": [
    "#Executa\n",
    "\n",
    "solve(model)"
   ]
  },
  {
   "attachments": {},
   "cell_type": "markdown",
   "metadata": {},
   "source": [
    "## Exercício 3"
   ]
  },
  {
   "attachments": {},
   "cell_type": "markdown",
   "metadata": {},
   "source": [
    "Suponha agora que duas ligas metálicas devem ser preparadas e os mesmos ingredientes são utilizados em ambas. A liga especificada no Exercício 1 é referida como liga 1 e devem ser produzidas 10 toneladas desta liga. Da outra liga, referida como liga 2, devem ser produzidas 6 toneladas e suas composições mínima e máxima são dadas na tabela abaixo.\n",
    "\n",
    "| | min | max |\n",
    "|:---|:---:|:---:|\n",
    "|Carbono | 0.00 | 40 |\n",
    "|Silício | 12 | 19 |"
   ]
  },
  {
   "cell_type": "code",
   "execution_count": 8,
   "metadata": {},
   "outputs": [],
   "source": [
    "#Carrega dados\n",
    "\n",
    "# composições mínimas e máximas dos componentes\n",
    "n = [{'c': 0.0, 's': 0.19}, {'c': 0.0, 's': 0.12}]\n",
    "m = [{'c': 0.095, 's': 0.2}, {'c': 0.4, 's': 0.19}]\n",
    "\n",
    "# quantidade desejada da liga\n",
    "Q = [10, 6]"
   ]
  },
  {
   "attachments": {},
   "cell_type": "markdown",
   "metadata": {},
   "source": [
    "$x_{li}$: quantidade, em toneladas, do ingrediente $i$ usado na liga $l$\n",
    "\n",
    "$$\\min ((c_l x_{0l} + c_g x_{0g} + c_s x_{0s}) + (c_l x_{1l} + c_g x_{1g} + c_s x_{1s}))$$\n",
    "\n",
    "Sujeito a:\n",
    "\n",
    "$$x_{0l} + x_{0g} + x_{0s} = Q_0$$\n",
    "$$x_{1l} + x_{1g} + x_{1s} = Q_1$$\n",
    "\n",
    "$$n_{0c} Q_0 \\leq a_{lc} x_{0l} + a_{gc} x_{0g} + a_{sc} x_{0s} \\leq m_{0c} Q_0$$\n",
    "$$n_{0s} Q_0 \\leq a_{ls} x_{0l} + a_{gs} x_{0g} + a_{ss} x_{0s} \\leq m_{0s} Q_0$$\n",
    "\n",
    "$$n_{1c} Q_1 \\leq a_{lc} x_{1l} + a_{gc} x_{1g} + a_{sc} x_{1s} \\leq m_{1c} Q_1$$\n",
    "$$n_{1s} Q_1 \\leq a_{ls} x_{1l} + a_{gs} x_{1g} + a_{ss} x_{1s} \\leq m_{1s} Q_1$$\n",
    "\n",
    "\n",
    "$$x_{0l} + x_{1l} \\leq e_l$$\n",
    "$$x_{0g} + x_{1g} \\leq e_g$$\n",
    "$$x_{0s} + x_{1s} \\leq e_s$$\n",
    "\n",
    "$$x_{0l}, x_{0g}, x_{0s}, x_{1l}, x_{1g}, x_{1s} \\geq 0$$"
   ]
  },
  {
   "cell_type": "code",
   "execution_count": 9,
   "metadata": {},
   "outputs": [
    {
     "name": "stdout",
     "output_type": "stream",
     "text": [
      "\\Problem name: \n",
      "\n",
      "Minimize\n",
      "OBJROW: 90 x_0_l + 180 x_0_g + 25 x_0_s + 90 x_1_l + 180 x_1_g + 25 x_1_s\n",
      "Subject To\n",
      "constr(0):  x_0_l + x_0_g + x_0_s = 10\n",
      "constr(1):  x_1_l + x_1_g + x_1_s = 6\n",
      "constr(2):  0.00500 x_0_l + 0.90000 x_0_g + 0.09000 x_0_s >= -0\n",
      "constr(3):  0.00500 x_0_l + 0.90000 x_0_g + 0.09000 x_0_s <= 0.95000\n",
      "constr(4):  0.14000 x_0_l + 0.27000 x_0_s >= 1.90000\n",
      "constr(5):  0.14000 x_0_l + 0.27000 x_0_s <= 2\n",
      "constr(6):  0.00500 x_1_l + 0.90000 x_1_g + 0.09000 x_1_s >= -0\n",
      "constr(7):  0.00500 x_1_l + 0.90000 x_1_g + 0.09000 x_1_s <= 2.40000\n",
      "constr(8):  0.14000 x_1_l + 0.27000 x_1_s >= 0.72000\n",
      "constr(9):  0.14000 x_1_l + 0.27000 x_1_s <= 1.14000\n",
      "constr(10):  x_0_l + x_1_l <= 5\n",
      "constr(11):  x_0_g + x_1_g <= 5\n",
      "constr(12):  x_0_s + x_1_s <= 12\n",
      "Bounds\n",
      "End\n",
      "\n"
     ]
    }
   ],
   "source": [
    "#Cria modelo\n",
    "\n",
    "model = Model(sense=MINIMIZE, solver_name=CBC)\n",
    "\n",
    "# criação/adição da variável no modelo\n",
    "x = [{i: model.add_var(name=f'x_{l}_{i}') for i in ['l', 'g', 's']} for l in range(2)]\n",
    "\n",
    "# função objetivo\n",
    "model.objective = c['l']*x[0]['l'] + c['g']*x[0]['g'] + c['s']*x[0]['s'] + c['l']*x[1]['l'] + c['g']*x[1]['g'] + c['s']*x[1]['s']\n",
    "\n",
    "# a soma dos ingredientes usados na liga 0 deve ser igual a Q0\n",
    "model += x[0]['l'] + x[0]['g'] + x[0]['s'] == Q[0]\n",
    "\n",
    "# a soma dos ingredientes usados na liga 1 deve ser igual a Q1\n",
    "model += x[1]['l'] + x[1]['g'] + x[1]['s'] == Q[1]\n",
    "\n",
    "# restrição na quantidade de Carbono na liga 0\n",
    "carbono = a['l']['c']*x[0]['l'] + a['g']['c']*x[0]['g'] + a['s']['c']*x[0]['s']\n",
    "model += n[0]['c']*Q[0] <= carbono\n",
    "model += carbono <= m[0]['c']*Q[0]\n",
    "\n",
    "# restrição na quantidade de Silicio na liga 0\n",
    "silicio = a['l']['s']*x[0]['l'] + a['g']['s']*x[0]['g'] + a['s']['s']*x[0]['s']\n",
    "model += n[0]['s']*Q[0] <= silicio\n",
    "model += silicio <= m[0]['s']*Q[0]\n",
    "\n",
    "# restrição na quantidade de Carbono na liga 1\n",
    "carbono = a['l']['c']*x[1]['l'] + a['g']['c']*x[1]['g'] + a['s']['c']*x[1]['s']\n",
    "model += n[1]['c']*Q[1] <= carbono\n",
    "model += carbono <= m[1]['c']*Q[1]\n",
    "\n",
    "# restrição na quantidade de Silicio na liga 1\n",
    "silicio = a['l']['s']*x[1]['l'] + a['g']['s']*x[1]['g'] + a['s']['s']*x[1]['s']\n",
    "model += n[1]['s']*Q[1] <= silicio\n",
    "model += silicio <= m[1]['s']*Q[1]\n",
    "\n",
    "# restrições de estoque\n",
    "model += x[0]['l'] + x[1]['l'] <= e['l']\n",
    "model += x[0]['g'] + x[1]['g'] <= e['g']\n",
    "model += x[0]['s'] + x[1]['s'] <= e['s']\n",
    "\n",
    "model.write(\"modelo3.lp\") # salva modelo em arquivo\n",
    "with open(\"modelo3.lp\") as f: # lê e exibe conteúdo do arquivo\n",
    "  print(f.read())"
   ]
  },
  {
   "cell_type": "code",
   "execution_count": 10,
   "metadata": {},
   "outputs": [
    {
     "name": "stdout",
     "output_type": "stream",
     "text": [
      "Starting solution of the Linear programming problem using Primal Simplex\n",
      "\n",
      "Clp0024I Matrix will be packed to eliminate 4 small elements\n",
      "Coin0506I Presolve 9 (-4) rows, 6 (0) columns and 22 (-10) elements\n",
      "Clp1000I sum of infeasibilities 1.93976e-05 - average 2.15528e-06, 0 fixed columns\n",
      "Coin0506I Presolve 9 (0) rows, 6 (0) columns and 22 (0) elements\n",
      "Clp0006I 0  Obj 1030.7881 Primal inf 1.7397564e-05 (2) Dual inf 1.3331949e+13 (6)\n",
      "Clp0029I End of values pass after 6 iterations\n",
      "Clp0000I Optimal - objective value 1029.2593\n",
      "Clp0000I Optimal - objective value 1029.2593\n",
      "Clp0000I Optimal - objective value 1029.2593\n",
      "Coin0511I After Postsolve, objective 1029.2593, infeasibilities - dual 0 (0), primal 0 (0)\n",
      "Clp0032I Optimal objective 1029.259259 - 0 iterations time 0.002, Presolve 0.00, Idiot 0.00\n",
      "Status =  OptimizationStatus.OPTIMAL\n",
      "Solution value  = 1029.26\n",
      "\n",
      "Solution:\n",
      "x_0_l = 4.32\n",
      "x_0_g = 0.51\n",
      "x_0_s = 5.17\n",
      "x_1_l = 0.68\n",
      "x_1_g = 1.45\n",
      "x_1_s = 3.87\n"
     ]
    }
   ],
   "source": [
    "solve(model)"
   ]
  },
  {
   "cell_type": "code",
   "execution_count": null,
   "metadata": {},
   "outputs": [],
   "source": []
  }
 ],
 "metadata": {
  "kernelspec": {
   "display_name": "Python 3",
   "language": "python",
   "name": "python3"
  },
  "language_info": {
   "codemirror_mode": {
    "name": "ipython",
    "version": 3
   },
   "file_extension": ".py",
   "mimetype": "text/x-python",
   "name": "python",
   "nbconvert_exporter": "python",
   "pygments_lexer": "ipython3",
   "version": "3.10.6"
  },
  "orig_nbformat": 4
 },
 "nbformat": 4,
 "nbformat_minor": 2
}
